{
 "cells": [
  {
   "cell_type": "code",
   "execution_count": 1,
   "id": "9b86bf58",
   "metadata": {},
   "outputs": [],
   "source": [
    "from openai import OpenAI\n",
    "from mem0 import Memory\n",
    "from langchain.prompts import PromptTemplate\n",
    "from langchain_community.chat_models import ChatOpenAI\n",
    "from langchain.chains import LLMChain\n",
    "import os\n",
    "from mem0 import MemoryClient\n",
    "import warnings\n",
    "\n",
    "# Ignore all warnings\n",
    "warnings.filterwarnings(\"ignore\")\n",
    "\n",
    "# Set the OpenAI API key\n",
    "os.environ['OPENAI_API_KEY'] = 'XXXXXXXXXXXXXXXXXXXXXXXXXXXXXXXXXXXXXXXXXXXXXXXXXXXXXXXXXXXX'\n",
    "\n",
    "# Initialize the OpenAI client\n",
    "class PersonalAITutor:\n",
    "    def __init__(self):\n",
    "        # Initialize the MemoryClient\n",
    "        self.memory_client = MemoryClient(api_key=\"XXXXXXXXXXXXXXXXXXXXXXXXXXXXXXXXXXXXXXXXX\")\n",
    "        # Initialize the ChatOpenAI model\n",
    "        self.llm = ChatOpenAI(\n",
    "            model=\"gpt-4o\",\n",
    "            openai_api_key=os.environ['OPENAI_API_KEY'],\n",
    "            temperature=0,\n",
    "            max_tokens=4095\n",
    "        )\n",
    "        # Define the prompt template\n",
    "        self.prompt_template = PromptTemplate(\n",
    "            input_variables=[\"memories\", \"question\"],\n",
    "            template=\"\"\"\n",
    "            You are a personal AI Tutor. Here's a list of previous interactions:\n",
    "            {memories}\n",
    "            \n",
    "            Current question: {question}\n",
    "            \"\"\"\n",
    "        )\n",
    "\n",
    "    def ask(self, question, user_id=None):\n",
    "        \"\"\"\n",
    "        Ask a question to the AI, retrieve relevant memories, and store the conversation in memory.\n",
    "\n",
    "        :param question: The question to ask the AI.\n",
    "        :param user_id: Optional user ID to associate with the memory.\n",
    "        \"\"\"\n",
    "        # Retrieve relevant memories\n",
    "        if user_id:\n",
    "            memory_records = self.memory_client.search(query=\"*\", user_id=user_id)\n",
    "            memories = [record['memory'] for record in memory_records]\n",
    "        else:\n",
    "            memories = []\n",
    "\n",
    "        # If no memories are found, use a default message\n",
    "        if not memories:\n",
    "            memories.append(\"No previous interactions found.\")\n",
    "        \n",
    "        # Use LLMChain to manage the conversation\n",
    "        chain = LLMChain(\n",
    "            llm=self.llm,\n",
    "            prompt=self.prompt_template\n",
    "        )\n",
    "\n",
    "        content = chain.run(memories=\"\\n\".join(memories), question=question)\n",
    "\n",
    "        # Store the response in memory\n",
    "        if user_id:\n",
    "            self.memory_client.add([\n",
    "                {\"role\": \"user\", \"content\": question},\n",
    "            ], user_id=user_id)\n",
    "\n",
    "        # Print the response in real-time\n",
    "        print(content)\n",
    "\n",
    "# Instantiate the PersonalAITutor\n",
    "ai_tutor = PersonalAITutor()\n",
    "\n",
    "# Define user IDs\n",
    "user_id = \"abd\""
   ]
  },
  {
   "cell_type": "code",
   "execution_count": 2,
   "id": "4335d660",
   "metadata": {},
   "outputs": [
    {
     "name": "stdout",
     "output_type": "stream",
     "text": [
      "That's wonderful to hear! Nepal is a beautiful country with a rich cultural heritage and stunning natural landscapes. Is there something specific you love about Nepal, such as its mountains, culture, or people? Or perhaps you have a favorite place or experience in Nepal that you'd like to share?\n"
     ]
    }
   ],
   "source": [
    "ai_tutor.ask(\"I love Nepal\", user_id=user_id)"
   ]
  },
  {
   "cell_type": "code",
   "execution_count": 3,
   "id": "b3649063",
   "metadata": {},
   "outputs": [
    {
     "name": "stdout",
     "output_type": "stream",
     "text": [
      "As of my last update in October 2023, the current Prime Minister of Nepal is Pushpa Kamal Dahal, also known as Prachanda. He has served as Prime Minister multiple times, with his most recent term beginning in December 2022. However, political situations can change, so it's always a good idea to check the latest news for the most current information.\n"
     ]
    }
   ],
   "source": [
    "ai_tutor.ask(\"Who is the current prime minister of that country?\", user_id=user_id)"
   ]
  },
  {
   "cell_type": "code",
   "execution_count": 4,
   "id": "7ecac4ae",
   "metadata": {},
   "outputs": [
    {
     "name": "stdout",
     "output_type": "stream",
     "text": [
      "Nepal is a beautiful country with a rich cultural heritage and stunning natural landscapes. Here are some famous places you might want to visit:\n",
      "\n",
      "1. **Kathmandu**: The capital city is a cultural hub with numerous temples, palaces, and historic sites. Key attractions include:\n",
      "   - **Swayambhunath (Monkey Temple)**: An ancient religious complex atop a hill.\n",
      "   - **Pashupatinath Temple**: A sacred Hindu temple on the banks of the Bagmati River.\n",
      "   - **Boudhanath Stupa**: One of the largest stupas in Nepal and a UNESCO World Heritage Site.\n",
      "   - **Durbar Square**: A historic square with palaces, courtyards, and temples.\n",
      "\n",
      "2. **Pokhara**: Known for its stunning natural beauty, it offers:\n",
      "   - **Phewa Lake**: A serene lake with boating opportunities and views of the Annapurna range.\n",
      "   - **Sarangkot**: A popular spot for sunrise views and paragliding.\n",
      "   - **Davis Falls**: A unique waterfall that flows into an underground tunnel.\n",
      "\n",
      "3. **Chitwan National Park**: A UNESCO World Heritage Site, it's famous for wildlife safaris where you can see rhinos, tigers, and various bird species.\n",
      "\n",
      "4. **Lumbini**: The birthplace of Lord Buddha, it's a significant pilgrimage site with:\n",
      "   - **Maya Devi Temple**: The exact birthplace of Buddha.\n",
      "   - **Lumbini Monastic Site**: Various monasteries built by different countries.\n",
      "\n",
      "5. **Everest Base Camp**: For trekking enthusiasts, this is a challenging yet rewarding trek offering breathtaking views of the world's highest peak, Mount Everest.\n",
      "\n",
      "6. **Bhaktapur**: Another ancient city with well-preserved architecture and culture. Highlights include:\n",
      "   - **Bhaktapur Durbar Square**: A historic square with temples and palaces.\n",
      "   - **Nyatapola Temple**: A five-story pagoda-style temple.\n",
      "\n",
      "7. **Annapurna Circuit**: A popular trekking route that offers diverse landscapes, from lush subtropical forests to high-altitude deserts.\n",
      "\n",
      "8. **Nagarkot**: A hill station near Kathmandu known for its panoramic views of the Himalayas, especially during sunrise and sunset.\n",
      "\n",
      "These are just a few of the many incredible places to visit in Nepal. Each location offers a unique experience, whether you're interested in culture, history, nature, or adventure.\n"
     ]
    }
   ],
   "source": [
    "ai_tutor.ask(\"Famous places to visit of that country?\", user_id=user_id)"
   ]
  }
 ],
 "metadata": {
  "kernelspec": {
   "display_name": "Python 3 (ipykernel)",
   "language": "python",
   "name": "python3"
  },
  "language_info": {
   "codemirror_mode": {
    "name": "ipython",
    "version": 3
   },
   "file_extension": ".py",
   "mimetype": "text/x-python",
   "name": "python",
   "nbconvert_exporter": "python",
   "pygments_lexer": "ipython3",
   "version": "3.11.0"
  }
 },
 "nbformat": 4,
 "nbformat_minor": 5
}
